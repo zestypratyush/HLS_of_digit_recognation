{
  "nbformat": 4,
  "nbformat_minor": 0,
  "metadata": {
    "colab": {
      "provenance": [],
      "include_colab_link": true
    },
    "kernelspec": {
      "name": "python3",
      "display_name": "Python 3"
    },
    "language_info": {
      "name": "python"
    }
  },
  "cells": [
    {
      "cell_type": "markdown",
      "metadata": {
        "id": "view-in-github",
        "colab_type": "text"
      },
      "source": [
        "<a href=\"https://colab.research.google.com/github/zestypratyush/HLS_of_digit_recognation/blob/main/Hand_digit_class.ipynb\" target=\"_parent\"><img src=\"https://colab.research.google.com/assets/colab-badge.svg\" alt=\"Open In Colab\"/></a>"
      ]
    },
    {
      "cell_type": "code",
      "execution_count": 1,
      "metadata": {
        "id": "eiQoCVH9Ns1D"
      },
      "outputs": [],
      "source": [
        "import tensorflow as tf\n",
        "from tensorflow import keras\n",
        "import matplotlib.pyplot as plt\n",
        "%matplotlib inline\n",
        "import numpy as np\n"
      ]
    },
    {
      "cell_type": "code",
      "source": [
        "(X_train, y_train) , (X_test, y_test) = keras.datasets.mnist.load_data()"
      ],
      "metadata": {
        "colab": {
          "base_uri": "https://localhost:8080/"
        },
        "id": "qoWJpDgpPd6i",
        "outputId": "b2feda25-dfb1-4e09-a5ac-f079567a3c9f"
      },
      "execution_count": 2,
      "outputs": [
        {
          "output_type": "stream",
          "name": "stdout",
          "text": [
            "Downloading data from https://storage.googleapis.com/tensorflow/tf-keras-datasets/mnist.npz\n",
            "11490434/11490434 [==============================] - 0s 0us/step\n"
          ]
        }
      ]
    },
    {
      "cell_type": "code",
      "source": [
        "plt.matshow(X_train[0])"
      ],
      "metadata": {
        "colab": {
          "base_uri": "https://localhost:8080/",
          "height": 293
        },
        "id": "XPtHb1bUPgtP",
        "outputId": "37e46573-0462-48c4-bd7b-e510bd494603"
      },
      "execution_count": 3,
      "outputs": [
        {
          "output_type": "execute_result",
          "data": {
            "text/plain": [
              "<matplotlib.image.AxesImage at 0x7f11d3a93e10>"
            ]
          },
          "metadata": {},
          "execution_count": 3
        },
        {
          "output_type": "display_data",
          "data": {
            "text/plain": [
              "<Figure size 288x288 with 1 Axes>"
            ],
            "image/png": "[encoded data removed]"
          },
          "metadata": {
            "needs_background": "light"
          }
        }
      ]
    },
    {
      "cell_type": "code",
      "source": [
        "y_train[0]"
      ],
      "metadata": {
        "colab": {
          "base_uri": "https://localhost:8080/"
        },
        "id": "t1JM89TvPn3H",
        "outputId": "8dcf3f9c-9cc3-4b71-c029-524ff544f0f5"
      },
      "execution_count": 4,
      "outputs": [
        {
          "output_type": "execute_result",
          "data": {
            "text/plain": [
              "5"
            ]
          },
          "metadata": {},
          "execution_count": 4
        }
      ]
    },
    {
      "cell_type": "code",
      "source": [
        "X_train = X_train / 255\n",
        "X_test = X_test / 255"
      ],
      "metadata": {
        "id": "_nyJYq6nPqf3"
      },
      "execution_count": 5,
      "outputs": []
    },
    {
      "cell_type": "code",
      "source": [
        "X_train_flattened = X_train.reshape(len(X_train), 28*28)\n",
        "X_test_flattened = X_test.reshape(len(X_test), 28*28)"
      ],
      "metadata": {
        "id": "ak_99rXPPtWW"
      },
      "execution_count": 6,
      "outputs": []
    },
    {
      "cell_type": "code",
      "source": [
        "model = keras.Sequential([\n",
        "    keras.layers.Dense(100, input_shape=(784,), activation='relu'),\n",
        "    keras.layers.Dense(10, activation='sigmoid')\n",
        "])\n",
        "\n",
        "model.compile(optimizer='adam',\n",
        "              loss='sparse_categorical_crossentropy',\n",
        "              metrics=['accuracy'])\n",
        "\n",
        "history = model.fit(X_train_flattened, y_train, epochs=5)\n"
      ],
      "metadata": {
        "colab": {
          "base_uri": "https://localhost:8080/"
        },
        "id": "x8yrsOrFPw0O",
        "outputId": "fb28f0cb-b4ba-4ab0-bbfc-3565c037236d"
      },
      "execution_count": 16,
      "outputs": [
        {
          "output_type": "stream",
          "name": "stdout",
          "text": [
            "Epoch 1/5\n",
            "1875/1875 [==============================] - 6s 3ms/step - loss: 0.2705 - accuracy: 0.9232\n",
            "Epoch 2/5\n",
            "1875/1875 [==============================] - 5s 3ms/step - loss: 0.1207 - accuracy: 0.9649\n",
            "Epoch 3/5\n",
            "1875/1875 [==============================] - 5s 3ms/step - loss: 0.0820 - accuracy: 0.9750\n",
            "Epoch 4/5\n",
            "1875/1875 [==============================] - 5s 3ms/step - loss: 0.0648 - accuracy: 0.9802\n",
            "Epoch 5/5\n",
            "1875/1875 [==============================] - 5s 3ms/step - loss: 0.0493 - accuracy: 0.9851\n"
          ]
        }
      ]
    },
    {
      "cell_type": "code",
      "source": [
        "print(history.history.keys())"
      ],
      "metadata": {
        "colab": {
          "base_uri": "https://localhost:8080/"
        },
        "id": "V01zrsatDgmr",
        "outputId": "665c5941-b815-45a9-a521-1f1f4e1fe0bf"
      },
      "execution_count": 17,
      "outputs": [
        {
          "output_type": "stream",
          "name": "stdout",
          "text": [
            "dict_keys(['loss', 'accuracy'])\n"
          ]
        }
      ]
    },
    {
      "cell_type": "code",
      "source": [
        "# summarize history for accuracy\n",
        "plt.plot(history.history['accuracy'])\n",
        "# plt.plot(history.history['val_accuracy'])\n",
        "plt.title('model accuracy')\n",
        "plt.ylabel('accuracy')\n",
        "plt.xlabel('epoch')\n",
        "plt.legend(['train'], loc='upper left')\n",
        "plt.show()"
      ],
      "metadata": {
        "colab": {
          "base_uri": "https://localhost:8080/",
          "height": 295
        },
        "id": "XyVlEN68Dsd1",
        "outputId": "e1c52dc6-5a67-4377-9f3b-b8e3f52ea4c8"
      },
      "execution_count": 22,
      "outputs": [
        {
          "output_type": "display_data",
          "data": {
            "text/plain": [
              "<Figure size 432x288 with 1 Axes>"
            ],
            "image/png": "[encoded data removed]"
          },
          "metadata": {
            "needs_background": "light"
          }
        }
      ]
    },
    {
      "cell_type": "code",
      "source": [
        "# summarize history for loss\n",
        "plt.plot(history.history['loss'])\n",
        "# plt.plot(history.history['val_loss'])\n",
        "plt.title('model loss')\n",
        "plt.ylabel('loss')\n",
        "plt.xlabel('epoch')\n",
        "plt.legend(['train'], loc='upper left')\n",
        "plt.show()"
      ],
      "metadata": {
        "colab": {
          "base_uri": "https://localhost:8080/",
          "height": 295
        },
        "id": "0NfmixfeD9Ed",
        "outputId": "e4b71a68-e9e3-4ad7-d77e-7936c7b66ee9"
      },
      "execution_count": 23,
      "outputs": [
        {
          "output_type": "display_data",
          "data": {
            "text/plain": [
              "<Figure size 432x288 with 1 Axes>"
            ],
            "image/png": "[encoded data removed]"
          },
          "metadata": {
            "needs_background": "light"
          }
        }
      ]
    },
    {
      "cell_type": "code",
      "source": [
        "model.evaluate(X_test_flattened,y_test)"
      ],
      "metadata": {
        "colab": {
          "base_uri": "https://localhost:8080/"
        },
        "id": "nj5OS6GWQlEd",
        "outputId": "8aeb5f8d-500c-45fc-b51a-661b9afb238b"
      },
      "execution_count": 8,
      "outputs": [
        {
          "output_type": "stream",
          "name": "stdout",
          "text": [
            "313/313 [==============================] - 1s 2ms/step - loss: 0.0766 - accuracy: 0.9763\n"
          ]
        },
        {
          "output_type": "execute_result",
          "data": {
            "text/plain": [
              "[0.07661297172307968, 0.9763000011444092]"
            ]
          },
          "metadata": {},
          "execution_count": 8
        }
      ]
    },
    {
      "cell_type": "code",
      "source": [],
      "metadata": {
        "id": "uBMm8mtZDrcR"
      },
      "execution_count": null,
      "outputs": []
    },
    {
      "cell_type": "code",
      "source": [
        "y_predicted = model.predict(X_test_flattened)\n",
        "y_predicted_labels = [np.argmax(i) for i in y_predicted]\n"
      ],
      "metadata": {
        "colab": {
          "base_uri": "https://localhost:8080/"
        },
        "id": "xmqOLNnBQxFV",
        "outputId": "ea0e846d-9a7a-4701-b52c-0e99a0b31c77"
      },
      "execution_count": 9,
      "outputs": [
        {
          "output_type": "stream",
          "name": "stdout",
          "text": [
            "313/313 [==============================] - 1s 1ms/step\n"
          ]
        }
      ]
    },
    {
      "cell_type": "code",
      "source": [
        "plt.matshow(X_test[5])"
      ],
      "metadata": {
        "id": "3SudtHbQRQgs",
        "colab": {
          "base_uri": "https://localhost:8080/",
          "height": 293
        },
        "outputId": "86d4860f-0d26-4efc-abdc-df8d611a595e"
      },
      "execution_count": 10,
      "outputs": [
        {
          "output_type": "execute_result",
          "data": {
            "text/plain": [
              "<matplotlib.image.AxesImage at 0x7f11cd9f5390>"
            ]
          },
          "metadata": {},
          "execution_count": 10
        },
        {
          "output_type": "display_data",
          "data": {
            "text/plain": [
              "<Figure size 288x288 with 1 Axes>"
            ],
            "image/png": "[encoded data removed]"
          },
          "metadata": {
            "needs_background": "light"
          }
        }
      ]
    },
    {
      "cell_type": "code",
      "source": [
        "y_predicted_labels[5]"
      ],
      "metadata": {
        "colab": {
          "base_uri": "https://localhost:8080/"
        },
        "id": "2_at6FDPRX1E",
        "outputId": "860a549a-237b-4f41-805a-2ada19f4332d"
      },
      "execution_count": 11,
      "outputs": [
        {
          "output_type": "execute_result",
          "data": {
            "text/plain": [
              "1"
            ]
          },
          "metadata": {},
          "execution_count": 11
        }
      ]
    },
    {
      "cell_type": "code",
      "source": [
        "plt.matshow(X_test[10])"
      ],
      "metadata": {
        "colab": {
          "base_uri": "https://localhost:8080/",
          "height": 293
        },
        "id": "ZY-A0CJ6RcvM",
        "outputId": "3c6b24d7-2282-4fa6-cca7-be1d9ea70bb8"
      },
      "execution_count": 12,
      "outputs": [
        {
          "output_type": "execute_result",
          "data": {
            "text/plain": [
              "<matplotlib.image.AxesImage at 0x7f11cf084bd0>"
            ]
          },
          "metadata": {},
          "execution_count": 12
        },
        {
          "output_type": "display_data",
          "data": {
            "text/plain": [
              "<Figure size 288x288 with 1 Axes>"
            ],
            "image/png": "[encoded data removed]"
          },
          "metadata": {
            "needs_background": "light"
          }
        }
      ]
    },
    {
      "cell_type": "code",
      "source": [
        "y_predicted_labels[10]"
      ],
      "metadata": {
        "colab": {
          "base_uri": "https://localhost:8080/"
        },
        "id": "lqraL85fRhNs",
        "outputId": "8716ac28-ad13-45d1-a95f-7839e0b56a2d"
      },
      "execution_count": 13,
      "outputs": [
        {
          "output_type": "execute_result",
          "data": {
            "text/plain": [
              "0"
            ]
          },
          "metadata": {},
          "execution_count": 13
        }
      ]
    },
    {
      "cell_type": "code",
      "source": [
        "model.save_weights('gfgModelWeights.h5')\n",
        "print('Model Saved!')"
      ],
      "metadata": {
        "colab": {
          "base_uri": "https://localhost:8080/"
        },
        "id": "eTsbCoxOSv4z",
        "outputId": "fbdf47fc-5190-43bd-b40b-16a71a2eba87"
      },
      "execution_count": null,
      "outputs": [
        {
          "output_type": "stream",
          "name": "stdout",
          "text": [
            "Model Saved!\n"
          ]
        }
      ]
    },
    {
      "cell_type": "code",
      "source": [
        "loc = \"./\" # save location\n",
        "shape_dict = {} # (layer name:shape) save dictionary\n"
      ],
      "metadata": {
        "id": "gWAaCQJMWThR"
      },
      "execution_count": null,
      "outputs": []
    },
    {
      "cell_type": "code",
      "source": [
        "for layer in model.layers:\n",
        "  print(layer.get_weights())\n",
        "  print(\"layer finished\")"
      ],
      "metadata": {
        "colab": {
          "base_uri": "https://localhost:8080/"
        },
        "id": "aBF6_NaFWnIF",
        "outputId": "30e8ff2d-c31d-4021-c4ee-d909365eff1a"
      },
      "execution_count": null,
      "outputs": [
        {
          "output_type": "stream",
          "name": "stdout",
          "text": [
            "[array([[-0.00858498, -0.01421284,  0.06468081, ...,  0.02831661,\n",
            "         0.03411277, -0.07334102],\n",
            "       [-0.0458426 , -0.08095226,  0.04041822, ...,  0.05982952,\n",
            "         0.06542607,  0.04070672],\n",
            "       [-0.03146183, -0.02677828,  0.07563864, ...,  0.0064632 ,\n",
            "         0.0404685 , -0.0011572 ],\n",
            "       ...,\n",
            "       [ 0.02420066,  0.05263384,  0.05258138, ...,  0.02264171,\n",
            "        -0.00404868,  0.05404042],\n",
            "       [ 0.05775008,  0.06656687,  0.05502811, ..., -0.06415351,\n",
            "         0.0262916 , -0.00691866],\n",
            "       [-0.05169982,  0.0500802 ,  0.00808757, ..., -0.06659962,\n",
            "        -0.04098063, -0.04461382]], dtype=float32), array([-0.02286784,  0.01223597, -0.01516971,  0.05165223,  0.03671602,\n",
            "       -0.07341834, -0.04742917,  0.02568727, -0.0387884 ,  0.06533167,\n",
            "       -0.00953382,  0.10457503,  0.12709603, -0.1033497 , -0.03024458,\n",
            "       -0.10104698, -0.02389798,  0.14500341,  0.18509598, -0.01148577,\n",
            "        0.07767199,  0.07899873,  0.00588017, -0.01590396,  0.05980876,\n",
            "        0.17317982, -0.00161665,  0.06327487,  0.10657714,  0.15663496,\n",
            "       -0.01251205, -0.0143329 ,  0.03264779,  0.00422527, -0.04956403,\n",
            "        0.09534286, -0.0319805 , -0.0943491 , -0.03832768,  0.1418742 ,\n",
            "       -0.01354338,  0.0567867 , -0.0296885 ,  0.0043861 ,  0.08041598,\n",
            "        0.00932474,  0.02823036,  0.04862037, -0.07418986,  0.083601  ,\n",
            "       -0.03402274, -0.01094915,  0.07908552,  0.10657206,  0.20346588,\n",
            "       -0.02405063, -0.005822  , -0.01214588,  0.22327113,  0.17784174,\n",
            "        0.09041107,  0.06649812, -0.05895682,  0.06478452,  0.00214893,\n",
            "        0.0141062 , -0.05940089,  0.2207035 , -0.0415074 ,  0.06652332,\n",
            "        0.12543775,  0.13802722,  0.06514829, -0.08162163,  0.04536314,\n",
            "        0.02468982,  0.1160816 , -0.025404  ,  0.04349772, -0.04664254,\n",
            "       -0.08630409,  0.01637041, -0.01638488,  0.02342152,  0.03866164,\n",
            "        0.1311241 , -0.03832178, -0.01402538, -0.04922765,  0.03129192,\n",
            "       -0.06522688,  0.05567041, -0.03638166,  0.02998253,  0.02462108,\n",
            "       -0.02633745,  0.12021368,  0.08717709,  0.07428448,  0.04524976],\n",
            "      dtype=float32)]\n",
            "layer finished\n",
            "[array([[ 6.71661720e-02,  1.85693175e-01,  1.87080041e-01,\n",
            "        -5.09715796e-01,  4.32454348e-01, -6.83044434e-01,\n",
            "        -4.38077986e-01,  2.39627454e-02, -3.45293283e-01,\n",
            "         3.50700289e-01],\n",
            "       [-4.28440943e-02,  3.98083068e-02, -1.53838053e-01,\n",
            "         4.72980663e-02, -8.25039208e-01, -2.65567392e-01,\n",
            "         4.01411533e-01,  1.84367806e-01, -2.61804372e-01,\n",
            "        -2.41409764e-01],\n",
            "       [ 2.61686534e-01, -2.38881767e-01,  1.12799980e-01,\n",
            "         4.58850116e-02,  2.56335557e-01, -1.95366785e-01,\n",
            "         2.40608007e-01, -2.25506157e-01,  1.55872807e-01,\n",
            "         1.83308154e-01],\n",
            "       [-3.17474097e-01, -2.98800588e-01, -4.57156926e-01,\n",
            "        -1.37596935e-01,  3.13425839e-01,  3.47240925e-01,\n",
            "         2.10251734e-01,  3.15550864e-01, -7.54583403e-02,\n",
            "         1.30840957e-01],\n",
            "       [-2.26186346e-02,  5.98994851e-01,  2.88045913e-01,\n",
            "        -7.84331381e-01,  2.14050591e-01,  2.24357061e-02,\n",
            "        -1.46219432e-01,  2.21302822e-01, -5.02820551e-01,\n",
            "        -4.59340736e-02],\n",
            "       [ 1.26317674e-02,  2.35650055e-02,  2.09483102e-01,\n",
            "         1.50867224e-01, -2.00073227e-01, -2.41356477e-01,\n",
            "        -2.49902055e-01, -2.46480092e-01,  1.92766428e-01,\n",
            "         1.11500360e-01],\n",
            "       [ 1.73429295e-01, -2.08055317e-01, -2.38218576e-01,\n",
            "         1.86064571e-01,  1.26098305e-01, -9.58142057e-02,\n",
            "        -2.35347599e-01,  1.10029921e-01,  6.00174963e-02,\n",
            "         1.27125368e-01],\n",
            "       [ 5.41292503e-02, -3.02127182e-01,  1.04947641e-01,\n",
            "        -1.10073341e-02, -7.83057153e-01,  2.15966359e-01,\n",
            "        -5.20995222e-02,  3.03465128e-01,  5.36472537e-02,\n",
            "        -1.85417876e-01],\n",
            "       [-2.55675584e-01, -1.80379480e-01,  5.77112325e-02,\n",
            "         1.56672314e-01, -6.27355203e-02, -1.25961795e-01,\n",
            "         3.56013179e-02,  4.61961567e-01,  2.71609038e-01,\n",
            "        -7.13757217e-01],\n",
            "       [ 1.85081154e-01, -5.24425864e-01,  1.80918604e-01,\n",
            "        -3.56764227e-01, -1.14812344e-01,  1.93969473e-01,\n",
            "        -1.00754149e-01,  9.17213485e-02,  9.26924571e-02,\n",
            "        -2.74326026e-01],\n",
            "       [-3.94571796e-02, -1.91766590e-01, -5.87668717e-02,\n",
            "         8.39112252e-02, -1.37360975e-01, -1.31002083e-01,\n",
            "         2.39481777e-01, -3.30330104e-01,  6.82210773e-02,\n",
            "        -2.01515779e-01],\n",
            "       [-6.22605622e-01, -3.43991518e-01,  4.54057716e-02,\n",
            "         2.33050749e-01,  3.27731133e-01, -2.36656293e-02,\n",
            "        -8.63008022e-01,  2.27906644e-01, -1.61472082e-01,\n",
            "         2.29870632e-01],\n",
            "       [-1.41056269e-01, -1.66349541e-02, -5.86135983e-01,\n",
            "        -9.99455079e-02,  1.24992862e-01,  2.34740764e-01,\n",
            "         2.02143297e-01, -3.22106898e-01,  3.34747821e-01,\n",
            "         3.75757045e-05],\n",
            "       [-1.98066950e-01, -2.02318713e-01,  1.54483588e-02,\n",
            "         1.74827382e-01, -7.11345017e-01,  3.22199911e-01,\n",
            "         2.92234182e-01,  2.54449487e-01,  2.34133542e-01,\n",
            "         2.95125730e-02],\n",
            "       [ 1.58375397e-01,  5.13523579e-01, -3.47195208e-01,\n",
            "         8.62560421e-02,  1.10137187e-01, -3.63330811e-01,\n",
            "         3.00107181e-01,  5.27551025e-03,  2.48686709e-02,\n",
            "        -4.32358027e-01],\n",
            "       [-8.72153461e-01, -1.35694951e-01, -1.40551962e-02,\n",
            "         3.70631903e-01,  1.38880923e-01,  4.38492060e-01,\n",
            "        -7.16053963e-01, -3.98027837e-01,  1.02005005e-01,\n",
            "         5.86824954e-01],\n",
            "       [-1.29645849e-02, -1.04938693e-01, -1.01529472e-01,\n",
            "        -1.18160933e-01, -1.86532408e-01, -6.47849366e-02,\n",
            "         1.46767497e-01, -2.49246746e-01,  6.19478077e-02,\n",
            "        -5.00905849e-02],\n",
            "       [ 4.78784107e-02, -4.28526923e-02,  4.81722765e-02,\n",
            "        -4.74304408e-01, -1.38051495e-01,  6.82390332e-02,\n",
            "         3.55602384e-01,  9.62612703e-02, -2.04411834e-01,\n",
            "        -1.82291776e-01],\n",
            "       [-1.96176305e-01, -2.67873377e-01, -2.16673285e-01,\n",
            "        -2.08718136e-01,  8.94747004e-02,  2.67811924e-01,\n",
            "        -8.11324596e-01,  2.58117139e-01, -1.03920266e-01,\n",
            "         2.14430779e-01],\n",
            "       [ 3.32576215e-01, -9.59534794e-02, -4.50667769e-01,\n",
            "         5.18415987e-01, -5.88238716e-01,  4.18040037e-01,\n",
            "         2.30376050e-01,  7.07592964e-02, -2.24981353e-01,\n",
            "        -5.25826752e-01],\n",
            "       [-6.90448701e-01,  5.54612949e-02,  5.97548842e-01,\n",
            "        -2.48234063e-01, -1.52219713e-01, -1.37767009e-02,\n",
            "         3.69976908e-02,  1.05463624e-01,  5.12651682e-01,\n",
            "        -6.30233884e-01],\n",
            "       [-2.43358523e-01, -3.69590372e-01, -1.14802405e-01,\n",
            "        -6.92337379e-02, -4.63593705e-03, -1.69334456e-01,\n",
            "         1.05344420e-02,  2.09301859e-01,  1.76260009e-01,\n",
            "         1.79492369e-01],\n",
            "       [ 1.61234140e-01, -4.27010208e-01,  1.72863781e-01,\n",
            "        -7.42346168e-01,  1.79450065e-01, -1.13882877e-01,\n",
            "        -2.59862483e-01,  3.85429785e-02, -2.50877708e-01,\n",
            "         2.46470794e-01],\n",
            "       [-1.81843400e-01,  3.36516976e-01,  3.91157866e-01,\n",
            "         1.21973269e-01, -5.62653005e-01, -1.28738701e-01,\n",
            "        -4.67041224e-01,  4.85728025e-01, -3.99195910e-01,\n",
            "        -4.95098591e-01],\n",
            "       [-5.84076107e-01,  2.06167862e-01,  1.20345451e-01,\n",
            "         1.53664574e-01,  4.42264453e-02,  1.80405870e-01,\n",
            "        -5.12845337e-01,  3.08663726e-01, -2.34032601e-01,\n",
            "         1.58915266e-01],\n",
            "       [-2.02335119e-01, -5.61240077e-01, -2.07146145e-02,\n",
            "        -4.71298128e-01, -2.35890206e-02,  5.19078314e-01,\n",
            "         4.13407525e-03,  3.33847135e-01,  1.36508033e-01,\n",
            "        -5.24803340e-01],\n",
            "       [-3.31385806e-02, -2.33416319e-01, -8.91918659e-01,\n",
            "         5.92813492e-02,  2.16732576e-01, -2.03316063e-01,\n",
            "        -1.44274026e-01,  2.01348126e-01, -3.49371463e-01,\n",
            "         2.53449917e-01],\n",
            "       [ 2.12986067e-01, -4.66924667e-01, -4.55401093e-01,\n",
            "         1.90245181e-01,  2.26233885e-01,  2.37710297e-01,\n",
            "         1.78335100e-01,  2.35788703e-01,  1.10819131e-01,\n",
            "        -2.07649041e-02],\n",
            "       [-2.46042296e-01, -3.68951946e-01,  1.56948239e-01,\n",
            "        -4.28259999e-01,  2.64867485e-01, -2.27249041e-02,\n",
            "         2.53318965e-01, -6.61880597e-02,  3.41282845e-01,\n",
            "        -1.50717229e-01],\n",
            "       [ 3.89618635e-01,  5.73005617e-01, -1.30766898e-01,\n",
            "         1.68907762e-01, -7.44139552e-01,  3.27910572e-01,\n",
            "         2.67375886e-01, -6.84560463e-02, -7.25454867e-01,\n",
            "        -1.93625748e-01],\n",
            "       [ 3.42629366e-02,  2.29144748e-02, -8.09799507e-03,\n",
            "         1.27795830e-01, -5.99611163e-01,  1.23368844e-01,\n",
            "        -1.43471122e-01, -3.55186343e-01,  7.17061684e-02,\n",
            "        -5.60141988e-02],\n",
            "       [ 2.44821951e-01, -4.95851934e-01, -1.04726993e-01,\n",
            "         2.37923190e-01,  3.61733139e-02,  2.01713275e-02,\n",
            "        -3.25163275e-01,  1.50608653e-02,  4.26838696e-02,\n",
            "         2.34228224e-01],\n",
            "       [-1.73188448e-01,  1.39145657e-01, -8.41550976e-02,\n",
            "        -3.89575912e-03,  1.52889818e-01, -2.42056593e-01,\n",
            "        -4.16726351e-01, -1.11398175e-01,  2.10697368e-01,\n",
            "         1.09406844e-01],\n",
            "       [ 1.51599348e-01, -4.34804201e-01,  1.80521876e-01,\n",
            "         1.84403032e-01, -6.94564760e-01,  1.70707062e-01,\n",
            "         1.51640311e-01, -2.95087606e-01, -4.78074141e-02,\n",
            "        -3.48152965e-01],\n",
            "       [-8.73375908e-02,  2.33781755e-01, -3.34744841e-01,\n",
            "        -2.84605712e-01, -5.14892220e-01,  3.66802305e-01,\n",
            "        -1.43421650e-01, -8.42975527e-02, -1.75926730e-01,\n",
            "         3.44027817e-01],\n",
            "       [-2.83855170e-01,  1.31150156e-01,  6.36782348e-02,\n",
            "         9.86584835e-03, -8.12639203e-03, -1.69628978e-01,\n",
            "         6.69268295e-02, -1.14821501e-01,  2.16801137e-01,\n",
            "        -2.90658146e-01],\n",
            "       [ 1.65910125e-02,  3.50877821e-01, -3.32860023e-01,\n",
            "        -3.81017357e-01,  1.60433531e-01,  3.57936695e-02,\n",
            "         5.15821099e-01, -1.13256857e-01, -6.26396477e-01,\n",
            "         1.20578676e-01],\n",
            "       [-5.49054779e-02,  3.71817350e-01, -8.84214342e-02,\n",
            "         7.02860355e-01, -3.63616496e-02, -6.19966328e-01,\n",
            "        -5.77052645e-02,  4.43671912e-01, -6.75944090e-01,\n",
            "        -3.80398691e-01],\n",
            "       [ 1.09293438e-01, -7.86141604e-02,  1.25019819e-01,\n",
            "         1.62713453e-01, -6.16028786e-01,  1.53571472e-01,\n",
            "         1.93079874e-01, -4.32802469e-01, -2.68600643e-01,\n",
            "        -1.21704981e-01],\n",
            "       [-2.74120301e-01,  2.52946824e-01,  2.38384992e-01,\n",
            "        -4.10816729e-01,  4.94551688e-01, -1.22626692e-01,\n",
            "        -3.05167995e-02, -2.94065118e-01, -2.57684171e-01,\n",
            "        -6.34314358e-01],\n",
            "       [-3.59023601e-01,  4.00220186e-01, -5.62548041e-01,\n",
            "        -2.79192597e-01,  1.83891058e-01,  2.50479788e-01,\n",
            "         2.53343821e-01,  4.82683256e-02, -2.95338094e-01,\n",
            "         4.56716456e-02],\n",
            "       [-3.58377218e-01,  1.38647988e-01,  2.21976772e-01,\n",
            "        -4.68188167e-01, -2.40665749e-01,  3.28429163e-01,\n",
            "         2.10656356e-02,  8.86417627e-02, -4.19586182e-01,\n",
            "        -5.46170950e-01],\n",
            "       [ 1.54180512e-01, -3.84454846e-01, -5.37455916e-01,\n",
            "        -1.69213787e-01,  2.46014237e-01,  1.46167785e-01,\n",
            "         2.56126702e-01, -1.09544657e-01, -7.02667385e-02,\n",
            "         2.22139508e-01],\n",
            "       [-6.53102696e-01, -4.64504719e-01, -4.64542150e-01,\n",
            "         1.84277713e-01,  2.15707392e-01,  3.58883917e-01,\n",
            "        -1.77063391e-01, -3.97696376e-01,  9.86460745e-02,\n",
            "         1.55616716e-01],\n",
            "       [-3.25843722e-01,  1.62511811e-01,  3.78831655e-01,\n",
            "         8.94358680e-02,  1.73783839e-01, -8.66744965e-02,\n",
            "         5.11500873e-02, -2.93451697e-01, -4.89943177e-02,\n",
            "        -4.52156812e-01],\n",
            "       [-3.18603337e-01, -5.02870798e-01,  1.19117223e-01,\n",
            "         2.61816114e-01, -6.87804997e-01,  1.87771767e-01,\n",
            "        -7.20972046e-02, -6.43175185e-01, -1.10899629e-02,\n",
            "         5.37864447e-01],\n",
            "       [-4.04411942e-01,  1.43805370e-01,  7.33639225e-02,\n",
            "        -5.58688231e-02, -2.79603362e-01, -3.97796422e-01,\n",
            "        -1.36034593e-01, -5.18527448e-01,  1.88700661e-01,\n",
            "         1.18694469e-01],\n",
            "       [-1.44468173e-01,  2.25497350e-01, -4.83123809e-01,\n",
            "        -3.70037377e-01,  2.43984357e-01, -3.07687640e-01,\n",
            "         8.14054608e-02,  2.88864821e-01,  4.57375720e-02,\n",
            "         1.11276964e-02],\n",
            "       [-8.09523836e-02,  5.61603196e-02, -4.19921815e-01,\n",
            "         2.12860137e-01,  2.07265183e-01, -2.68738139e-02,\n",
            "         1.43600013e-02, -2.22879276e-01, -2.67521646e-02,\n",
            "        -3.87913287e-01],\n",
            "       [-3.09482366e-01,  2.40366265e-01, -5.02550155e-02,\n",
            "         2.37664074e-01,  1.15374155e-01,  1.26614496e-01,\n",
            "        -3.51187527e-01,  2.32992142e-01,  2.48593271e-01,\n",
            "         9.04329643e-02],\n",
            "       [-5.27518630e-01,  2.93872327e-01,  3.64766479e-01,\n",
            "        -5.52778579e-02, -5.79558387e-02, -3.56359571e-01,\n",
            "        -4.63396460e-01,  2.99086303e-01,  5.22545502e-02,\n",
            "        -2.52858847e-01],\n",
            "       [-4.94505465e-02, -1.76347405e-01, -7.83881396e-02,\n",
            "        -7.22528100e-02, -1.53733611e-01, -2.39913151e-01,\n",
            "         1.59792572e-01, -3.59597504e-01, -8.05794727e-03,\n",
            "        -2.13625744e-01],\n",
            "       [-3.99915606e-01,  1.13498777e-01,  7.93766603e-02,\n",
            "        -1.86182544e-01,  9.46700275e-02, -2.91739613e-01,\n",
            "         2.43402421e-01,  2.08141148e-01, -6.23110175e-01,\n",
            "         2.97668725e-01],\n",
            "       [-1.35716975e-01, -3.46004847e-03,  1.97446540e-01,\n",
            "        -4.35413331e-01,  9.86338481e-02, -7.17125654e-01,\n",
            "         5.31497598e-02,  2.80851066e-01, -5.94523288e-02,\n",
            "         6.06352277e-02],\n",
            "       [ 1.12965249e-01, -2.16340765e-01,  4.98660684e-01,\n",
            "         4.47438285e-02, -1.70597091e-01,  4.68283087e-01,\n",
            "        -2.99691021e-01, -2.09677637e-01, -6.52888715e-01,\n",
            "         5.97111210e-02],\n",
            "       [-1.51621506e-01, -6.01146638e-01,  1.95798188e-01,\n",
            "         5.02758026e-01, -2.37129956e-01, -1.51406378e-01,\n",
            "        -7.75700688e-01,  2.28013575e-01, -3.57152313e-01,\n",
            "         1.34310424e-01],\n",
            "       [ 1.29089415e-01,  3.07069272e-01, -2.32260540e-01,\n",
            "        -3.32167596e-01,  4.11572993e-01,  1.93946913e-01,\n",
            "        -3.15330446e-01,  1.68302953e-01, -4.86319102e-02,\n",
            "        -5.79797745e-01],\n",
            "       [ 1.92106918e-01, -3.66013229e-01, -1.73623934e-01,\n",
            "         5.83912171e-02, -7.46059343e-02, -2.00410277e-01,\n",
            "         4.10487801e-02,  2.10838720e-01,  3.55263837e-02,\n",
            "        -6.22944720e-02],\n",
            "       [ 1.13086812e-01,  5.78382373e-01,  3.52052636e-02,\n",
            "        -1.41691074e-01,  3.66646005e-03,  1.43802449e-01,\n",
            "        -1.41810328e-01,  5.35635293e-01, -4.37487245e-01,\n",
            "        -6.34620190e-01],\n",
            "       [-1.71175480e-01, -1.46191940e-01,  3.84797245e-01,\n",
            "        -3.69790316e-01,  2.16663614e-01, -3.10094446e-01,\n",
            "         1.99810609e-01,  2.69660592e-01, -4.29962993e-01,\n",
            "        -5.15025496e-01],\n",
            "       [ 2.16973796e-01,  2.48476058e-01,  2.24246934e-01,\n",
            "        -1.66353494e-01, -1.21038564e-01,  6.16383180e-02,\n",
            "         1.47474065e-01, -3.17306221e-01,  2.42733657e-01,\n",
            "         6.87140692e-03],\n",
            "       [ 2.27949798e-01, -2.39522472e-01,  3.02138418e-01,\n",
            "        -3.05415571e-01,  1.65574670e-01,  2.14187447e-02,\n",
            "        -9.15725082e-02,  2.44114362e-02, -5.96272171e-01,\n",
            "        -1.64986148e-01],\n",
            "       [ 1.98456898e-01,  1.55221090e-01,  3.41771781e-01,\n",
            "         5.59092276e-02, -2.71054417e-01, -4.48120445e-01,\n",
            "        -6.63313627e-01,  2.78248280e-01, -2.21057519e-01,\n",
            "        -3.08885813e-01],\n",
            "       [ 2.53447681e-03,  3.44765306e-01,  1.77018225e-01,\n",
            "        -1.61514035e-04,  3.77057552e-01, -7.83935338e-02,\n",
            "        -1.31883740e-01,  6.41932413e-02, -6.24289155e-01,\n",
            "         2.06289560e-01],\n",
            "       [ 2.78587908e-01,  3.58187535e-04, -1.75924927e-01,\n",
            "        -1.85065448e-01, -1.61826804e-01, -4.12894368e-01,\n",
            "         2.32575566e-01,  4.19300050e-02,  1.96619198e-01,\n",
            "         8.74713510e-02],\n",
            "       [-3.15845251e-01,  3.78062308e-01, -9.13037285e-02,\n",
            "        -1.23011909e-01,  4.46472168e-01, -4.64742422e-01,\n",
            "         3.54778655e-02,  1.44388840e-01,  1.45535007e-01,\n",
            "        -7.45404005e-01],\n",
            "       [-6.96764529e-01,  1.25058413e-01, -1.23465344e-01,\n",
            "         1.53391600e-01,  3.62937376e-02,  6.83383793e-02,\n",
            "        -6.75157607e-01, -3.81967127e-01,  2.93460432e-02,\n",
            "         1.71220943e-01],\n",
            "       [-2.66837269e-01,  1.81015730e-01, -8.42594266e-01,\n",
            "        -2.45304063e-01,  5.98392598e-02,  3.66631925e-01,\n",
            "        -1.23843081e-01,  2.04591990e-01, -2.44705573e-01,\n",
            "         2.86554068e-01],\n",
            "       [ 8.53385925e-02, -4.93580736e-02,  4.79877964e-02,\n",
            "         7.10646659e-02, -8.77051130e-02, -3.60929556e-02,\n",
            "        -1.86538249e-01, -4.35023047e-02,  2.29821593e-01,\n",
            "        -3.70440520e-02],\n",
            "       [-2.23733127e-01,  1.76633865e-01,  1.67380258e-01,\n",
            "        -4.41080704e-02,  3.81738804e-02, -2.45078206e-01,\n",
            "         1.31126970e-01, -2.90344208e-01,  2.75398612e-01,\n",
            "         1.06729142e-01],\n",
            "       [-5.81364147e-02, -4.71838415e-02, -9.09843743e-02,\n",
            "        -7.61447176e-02, -5.46972990e-01,  4.33241814e-01,\n",
            "        -3.78540635e-01,  1.77807227e-01,  1.39358446e-01,\n",
            "         2.02460364e-01],\n",
            "       [ 1.19260214e-01, -8.15653652e-02,  3.81766200e-01,\n",
            "         1.20691331e-02,  4.14676219e-01,  2.80645490e-01,\n",
            "        -1.28672600e-01, -2.11891398e-01,  6.27833381e-02,\n",
            "        -6.15152359e-01],\n",
            "       [ 2.04624921e-01,  1.31789772e-02, -5.22971809e-01,\n",
            "        -1.30274743e-01, -4.15052384e-01,  1.99817836e-01,\n",
            "         3.14225629e-02,  7.65548125e-02,  4.01471145e-02,\n",
            "        -1.41058341e-01],\n",
            "       [-4.24874276e-01,  5.46675250e-02, -2.66117394e-01,\n",
            "         1.81318209e-01, -3.34458292e-01,  3.07097226e-01,\n",
            "        -3.39037925e-01, -4.19933289e-01,  7.71918967e-02,\n",
            "        -1.46748230e-01],\n",
            "       [ 1.20812088e-01, -2.58538783e-01, -7.18687847e-02,\n",
            "        -3.32414418e-01,  5.01804292e-01, -3.51873100e-01,\n",
            "         1.89124625e-02,  2.57531047e-01, -5.15464060e-02,\n",
            "        -3.82362157e-01],\n",
            "       [ 2.33288646e-01, -2.28084937e-01,  6.37863204e-02,\n",
            "        -1.66102394e-01,  1.48275562e-04,  1.08900033e-01,\n",
            "        -2.87717823e-02, -4.24232006e-01,  1.55343100e-01,\n",
            "        -4.65684012e-02],\n",
            "       [ 3.91982049e-02, -2.58647472e-01,  2.35782579e-01,\n",
            "        -6.59374446e-02,  1.76570788e-01,  1.57899633e-02,\n",
            "        -1.60648152e-01, -1.36871648e-03,  1.54171184e-01,\n",
            "        -3.15756559e-01],\n",
            "       [ 2.25904286e-01, -1.13542816e-02, -1.73681155e-02,\n",
            "        -2.76298732e-01, -1.86160374e-02, -4.12535518e-01,\n",
            "        -1.38721496e-01,  1.30204946e-01,  2.19206080e-01,\n",
            "         2.95866996e-01],\n",
            "       [ 1.10301606e-01, -5.98664820e-01, -1.61069766e-01,\n",
            "        -1.31733894e-01,  2.31840685e-01,  1.95468649e-01,\n",
            "         1.98677838e-01, -2.39542782e-01, -8.99603665e-02,\n",
            "         1.51901484e-01],\n",
            "       [-4.05064076e-02,  1.95104703e-01, -1.40102319e-02,\n",
            "         9.46215168e-02, -2.28613257e-01,  1.32012486e-01,\n",
            "         1.20000318e-01, -5.09267986e-01, -3.61201942e-01,\n",
            "        -6.44588590e-01],\n",
            "       [ 5.46358004e-02, -1.78736895e-01,  2.07510665e-01,\n",
            "         2.88564682e-01, -1.14305481e-01, -1.10927992e-01,\n",
            "        -7.27749348e-01,  6.72986433e-02,  5.98888956e-02,\n",
            "         2.17431679e-01],\n",
            "       [-4.93904829e-01, -2.97419541e-02,  2.11396441e-02,\n",
            "        -4.74879406e-02, -7.62993813e-01,  4.57428604e-01,\n",
            "         2.88782895e-01,  6.05182610e-02,  3.57953161e-02,\n",
            "        -1.16595753e-01],\n",
            "       [ 3.05212647e-01, -2.73533221e-02,  8.06886107e-02,\n",
            "         2.52924915e-02, -6.47413135e-01,  1.63421735e-01,\n",
            "         1.71415657e-01, -4.98326480e-01,  2.08884887e-02,\n",
            "        -2.28284299e-01],\n",
            "       [-2.07442224e-01,  7.58904144e-02, -2.22666651e-01,\n",
            "         2.00810105e-01, -1.95191130e-01,  7.37327263e-02,\n",
            "        -1.04450889e-01, -1.37177259e-01,  2.63792932e-01,\n",
            "        -3.92010994e-02],\n",
            "       [-5.35851657e-01,  2.24519789e-01, -9.58622992e-02,\n",
            "         6.78372979e-01,  1.13736823e-01, -7.20070660e-01,\n",
            "        -3.08270276e-01, -1.26620620e-01, -4.80674446e-01,\n",
            "         9.86543223e-02],\n",
            "       [-5.32330275e-01, -1.40851974e-01,  8.93741921e-02,\n",
            "        -9.75219533e-02,  2.12398648e-01,  1.50597915e-01,\n",
            "         1.98000699e-01, -4.85262007e-01, -6.57614768e-02,\n",
            "        -9.48144570e-02],\n",
            "       [ 2.03177154e-01, -3.48599888e-02,  3.43211502e-01,\n",
            "         9.23406184e-02, -9.21525300e-01, -5.49168140e-02,\n",
            "        -4.38337952e-01,  1.07107513e-01, -1.60565212e-01,\n",
            "         5.42650707e-02],\n",
            "       [ 2.59346187e-01, -3.93041492e-01,  1.17084816e-01,\n",
            "        -1.74874932e-01, -5.24919391e-01,  1.56118318e-01,\n",
            "        -1.88049808e-01, -5.10698408e-02,  1.18056521e-01,\n",
            "         2.17563257e-01],\n",
            "       [ 1.36647508e-01, -2.81756204e-02,  6.05788752e-02,\n",
            "         1.85769022e-01, -1.12517998e-01,  1.86115980e-01,\n",
            "        -7.21895933e-01,  2.12983519e-01, -6.43667877e-02,\n",
            "         1.70330271e-01],\n",
            "       [-7.74872482e-01,  4.91005629e-01, -6.37728691e-01,\n",
            "        -8.00593421e-02,  3.48684639e-01,  1.00946702e-01,\n",
            "        -2.02060297e-01, -3.80720496e-01, -3.72191459e-01,\n",
            "         2.50912666e-01],\n",
            "       [ 3.64067584e-01,  1.53609002e-02,  2.56768793e-01,\n",
            "         1.64466292e-01,  7.69127756e-02, -6.01181388e-01,\n",
            "        -2.52075523e-01, -1.16551980e-01, -3.79063785e-01,\n",
            "        -1.78108979e-02],\n",
            "       [ 2.59996295e-01,  5.66683337e-02,  2.30728686e-01,\n",
            "        -1.45097718e-01, -1.20453142e-01, -7.15926588e-01,\n",
            "         7.26229921e-02,  5.22762313e-02,  1.73985496e-01,\n",
            "         1.81338653e-01],\n",
            "       [-5.86010635e-01,  6.71942830e-02,  2.38988400e-01,\n",
            "         3.44558269e-01, -2.73864269e-01, -9.70923379e-02,\n",
            "         3.41013789e-01,  3.50609839e-01, -1.28898025e-01,\n",
            "        -3.59199226e-01],\n",
            "       [ 1.79660648e-01, -3.65247607e-01, -1.36434734e-01,\n",
            "        -1.22017883e-01, -3.71732935e-02, -7.73397982e-02,\n",
            "         1.19491816e-01,  1.36956960e-01,  8.29421729e-02,\n",
            "        -1.78576373e-02],\n",
            "       [ 2.03882366e-01, -2.22404942e-01, -2.68945783e-01,\n",
            "        -4.06553507e-01, -4.94125634e-01,  3.33823919e-01,\n",
            "         3.15868527e-01, -1.39468178e-01,  6.59640878e-02,\n",
            "        -1.16196312e-01],\n",
            "       [-3.92573066e-02,  1.08650394e-01, -1.66407645e-01,\n",
            "         1.71595082e-01, -5.44687688e-01,  7.56466761e-02,\n",
            "        -4.06010389e-01,  1.62784994e-01,  7.81892315e-02,\n",
            "         4.29493487e-02],\n",
            "       [-4.59915549e-01, -2.40700483e-01, -1.89024404e-01,\n",
            "        -2.89998204e-01, -7.04378486e-02, -2.88317263e-01,\n",
            "        -5.48166394e-01,  4.08803642e-01, -6.90586448e-01,\n",
            "        -1.59860134e-01],\n",
            "       [-1.79061033e-02,  7.88268596e-02, -4.75985408e-01,\n",
            "         6.69499040e-02,  1.59043401e-01,  3.95101905e-01,\n",
            "         4.20851596e-02, -2.82709539e-01,  4.20748055e-01,\n",
            "        -3.40918690e-01],\n",
            "       [-2.84458637e-01,  4.08157080e-01, -3.04329574e-01,\n",
            "        -5.38672268e-01, -1.05448917e-01,  4.62464213e-01,\n",
            "        -1.86632872e-02, -7.49223530e-01, -1.34570822e-01,\n",
            "         1.79918543e-01],\n",
            "       [-3.17433298e-01, -2.57816911e-01,  2.82295257e-01,\n",
            "         2.17248157e-01, -2.82620788e-01, -2.15892196e-01,\n",
            "        -3.68333757e-02, -1.54941544e-01, -2.36564770e-01,\n",
            "        -3.11517417e-01]], dtype=float32), array([-0.09786936, -0.04153669,  0.03015759, -0.08162895,  0.07625126,\n",
            "       -0.00595975,  0.02350435, -0.01642378,  0.1317534 , -0.05744734],\n",
            "      dtype=float32)]\n",
            "layer finished\n"
          ]
        }
      ]
    },
    {
      "cell_type": "code",
      "source": [
        "for layer in model.layers:\n",
        "    if layer.get_weights() != []:\n",
        "        shape_dict[layer.name] = np.shape(layer.get_weights()[1]) # No bias, only weights saved (initialized bias=0)\n",
        "        np.savetxt(loc + layer.name +\".csv\", layer.get_weights()[1].flatten(), delimiter=\",\")"
      ],
      "metadata": {
        "id": "PQTTEJC7U84W"
      },
      "execution_count": null,
      "outputs": []
    },
    {
      "cell_type": "code",
      "source": [
        "from sklearn import metrics\n",
        "\n",
        "confusion_matrix = metrics.confusion_matrix(y_test, y_predicted_labels)\n",
        "cm_display = metrics.ConfusionMatrixDisplay(confusion_matrix = confusion_matrix, display_labels = [False, True])\n",
        "\n",
        "cm_display.plot()\n",
        "plt.show()"
      ],
      "metadata": {
        "id": "h9DHqTktXKsr",
        "colab": {
          "base_uri": "https://localhost:8080/",
          "height": 279
        },
        "outputId": "e18d3ef5-c756-4e60-9727-4da31c5abd5b"
      },
      "execution_count": 14,
      "outputs": [
        {
          "output_type": "display_data",
          "data": {
            "text/plain": [
              "<Figure size 432x288 with 2 Axes>"
            ],
            "image/png": "[encoded data removed]"
          },
          "metadata": {
            "needs_background": "light"
          }
        }
      ]
    },
    {
      "cell_type": "code",
      "source": [
        "disp = metrics.ConfusionMatrixDisplay.from_predictions(y_test, y_predicted_labels)\n",
        "fig = disp.ax_.get_figure() \n",
        "fig.set_figwidth(10)\n",
        "fig.set_figheight(10)"
      ],
      "metadata": {
        "colab": {
          "base_uri": "https://localhost:8080/",
          "height": 580
        },
        "id": "-N6A3qdW8H9y",
        "outputId": "12e9c339-615f-4237-f2d2-5c86e5d07353"
      },
      "execution_count": 15,
      "outputs": [
        {
          "output_type": "display_data",
          "data": {
            "text/plain": [
              "<Figure size 720x720 with 2 Axes>"
            ],
            "image/png": "[encoded data removed]"
          },
          "metadata": {
            "needs_background": "light"
          }
        }
      ]
    }
  ]
}